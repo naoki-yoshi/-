{
 "cells": [
  {
   "cell_type": "markdown",
   "id": "8f2af60a",
   "metadata": {},
   "source": [
    "## 【問題1】何回折ったら富士山を超えるか"
   ]
  },
  {
   "cell_type": "code",
   "execution_count": 1,
   "id": "e4ba4f4f",
   "metadata": {},
   "outputs": [
    {
     "name": "stdout",
     "output_type": "stream",
     "text": [
      "富士山を超えるためには26回紙を折る必要がある\n"
     ]
    }
   ],
   "source": [
    "total_height = []    \n",
    "thickness = 0.00008\n",
    "number_folds = 1\n",
    "height = 0\n",
    "while height < 3776:\n",
    "    height = thickness * (2 ** number_folds)\n",
    "    number_folds = number_folds + 1\n",
    "    total_height.append(height)\n",
    "    \n",
    "print(\"富士山を超えるためには{}回紙を折る必要がある\".format(len(total_height)))"
   ]
  },
  {
   "cell_type": "markdown",
   "id": "e6ffa52f",
   "metadata": {},
   "source": [
    "## 【問題2】任意の厚さに対応した関数"
   ]
  },
  {
   "cell_type": "code",
   "execution_count": 2,
   "id": "e2098fd6",
   "metadata": {},
   "outputs": [
    {
     "name": "stdout",
     "output_type": "stream",
     "text": [
      "厚さ0.08ミリの紙を69回折れば、38008484673600kmの高さを超える\n"
     ]
    }
   ],
   "source": [
    "def minimum_fold_count(any_height,thickness):\n",
    "     \"\"\"\"指定した高さを超えるために必要な紙を折る最小回数を計算する関数\n",
    "     Parameteres\n",
    "     -------------\n",
    "     height : int\n",
    "        指定する高さ\n",
    "     thickness : int\n",
    "        折る前の厚さ\n",
    "        \n",
    "     Returns\n",
    "     -------------\n",
    "     total_height : list\n",
    "        折っていく毎の高さのリスト\n",
    "      \"\"\"\n",
    "     total_height = []\n",
    "     fold_count = 1\n",
    "     height = 0\n",
    "     while height < any_height :\n",
    "        height =(thickness/1000) * (2 ** fold_count)\n",
    "        fold_count = fold_count + 1 \n",
    "        total_height.append(height)\n",
    "     thickness_mm = thickness * 1000\n",
    "     print(\"厚さ{}ミリの紙を{}回折れば、{}kmの高さを超える\".format(thickness_mm,len(total_height),any_height))\n",
    "    \n",
    "# 入力する高さ\n",
    "any_height = 38008484673600  # 4.0175光年をkmに換算\n",
    "# 紙の厚さ\n",
    "thickness = 0.00008\n",
    "\n",
    "minimum_fold_count(any_height,thickness)"
   ]
  },
  {
   "cell_type": "markdown",
   "id": "d6682313",
   "metadata": {},
   "source": [
    "## 【問題3】必要な紙の長さ"
   ]
  },
  {
   "cell_type": "code",
   "execution_count": 3,
   "id": "d2a65291",
   "metadata": {},
   "outputs": [
    {
     "name": "stdout",
     "output_type": "stream",
     "text": [
      "紙を折った厚さで月に届くために必要な紙の長さは3.240919444170781e+21メートル\n",
      "紙を折った厚さで富士山の高さを超えるために必要な紙の長さは188646348487.24014メートル\n",
      "紙を折った厚さでプロキシマ.ケンタウリに届くために必要な紙の長さは1.4595803601100348e+37メートル\n"
     ]
    }
   ],
   "source": [
    "import math\n",
    "THICKNESS = 0.00008\n",
    "\n",
    "def required_paper_length (any_heigth):\n",
    "    \"\"\"\"\"\"\"\"\n",
    "    \n",
    "    \"\"\"\"\"\"\"\"\n",
    "    total_height = []\n",
    "    fold_count = 1\n",
    "    height = 0\n",
    "    while height < any_heigth:\n",
    "        height = THICKNESS * (2 ** fold_count)\n",
    "        fold_count = fold_count  + 1\n",
    "        total_height.append(height)\n",
    "            \n",
    "    fold_score= len( total_height) #高さを超えるのに必要な回数  \n",
    "    \n",
    "    #必要な紙の長さを計算する\n",
    "    paper_length = math.pi*THICKNESS*(2**fold_score + 4)*(2**fold_score -1)/6\n",
    "    return  paper_length\n",
    "    \n",
    "# 月までの距離を入力する\n",
    "month_distance = 384400000\n",
    "any_heigth = month_distance\n",
    "paper_length = required_paper_length(any_heigth)\n",
    "print(\"紙を折った厚さで月に届くために必要な紙の長さは{}メートル\".format(paper_length))\n",
    "# 富士山の高さを入力する\n",
    "mount_fuji_height  = 3774\n",
    "any_heigth = mount_fuji_height\n",
    "paper_length = required_paper_length(any_heigth)\n",
    "print(\"紙を折った厚さで富士山の高さを超えるために必要な紙の長さは{}メートル\".format(paper_length))\n",
    "# 最も近い太陽以外の恒星\n",
    "kentauri_distance  = 38008484673600*1000   # 4.0175光年をメートルに換算\n",
    "any_heigth = kentauri_distance\n",
    "paper_length = required_paper_length(any_heigth)\n",
    "print(\"紙を折った厚さでプロキシマ.ケンタウリに届くために必要な紙の長さは{}メートル\".format(paper_length))"
   ]
  },
  {
   "cell_type": "code",
   "execution_count": null,
   "id": "4388bbd6",
   "metadata": {},
   "outputs": [],
   "source": []
  }
 ],
 "metadata": {
  "kernelspec": {
   "display_name": "Python 3",
   "language": "python",
   "name": "python3"
  },
  "language_info": {
   "codemirror_mode": {
    "name": "ipython",
    "version": 3
   },
   "file_extension": ".py",
   "mimetype": "text/x-python",
   "name": "python",
   "nbconvert_exporter": "python",
   "pygments_lexer": "ipython3",
   "version": "3.8.8"
  }
 },
 "nbformat": 4,
 "nbformat_minor": 5
}

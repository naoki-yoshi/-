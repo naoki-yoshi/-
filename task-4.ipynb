{
 "cells": [
  {
   "cell_type": "markdown",
   "id": "f4cf5f1b",
   "metadata": {},
   "source": [
    "## 【問題】栗まんじゅうが太陽系を覆う日"
   ]
  },
  {
   "cell_type": "markdown",
   "id": "9d4d9005",
   "metadata": {},
   "source": [
    "１　栗饅頭の体積は100立方センチメートルとします\n",
    "　\n",
    "２　太陽系の大きさは　30兆キロメートルの球体と考えます。\n",
    "      半径＝　15000000000000㎞\n",
    "　　・球の体積は ４ × π × 半径 × 半径 × 半径 ÷ ３ で求めます。(π＝３)\n",
    "　　　〈　4 * 3 * 15000000000000 * 15000000000000 * 15000000000000 / 3)\n",
    "     ＝1.35e+40 立方キロメートル\n"
   ]
  },
  {
   "cell_type": "code",
   "execution_count": 2,
   "id": "76d03d31",
   "metadata": {},
   "outputs": [
    {
     "name": "stdout",
     "output_type": "stream",
     "text": [
      "体積0.1立方メートルの物体にバイバインを振りかけて1.35e+40立方メートルの空間にいれると735分で一杯になる\n"
     ]
    }
   ],
   "source": [
    "CONATINUE_TIME = 5\n",
    "\n",
    " \n",
    "def baibainn(volume,breadth) :\n",
    "    \"\"\"\"バイバインをふりかけてから空間が一杯になるまでの時間を計算する関数\n",
    "    Parameteres\n",
    "    -----------\n",
    "    volume : int　　\n",
    "    　バイバインをふりかける物体の体積\n",
    "    breadth : int\n",
    "      物体を入れる空間の体積\n",
    "      \n",
    "    Return\n",
    "    ------------\n",
    "    total_time : int\n",
    "      空間が一杯になるまでの時間\n",
    "    \"\"\"\"\"\n",
    "    n_volume = []\n",
    "    total_volume = 0    # 累計の体積\n",
    "    increase_count = 1  # 増加した回数\n",
    "    \n",
    "    while  total_volume < breadth:\n",
    "        total_volume = volume/1000 * (2**increase_count) #volumeを立方キロメートルに変換\n",
    "        increase_count = increase_count + 1\n",
    "        n_volume.append(total_volume)\n",
    "    total_time = len( n_volume) * CONATINUE_TIME\n",
    "    \n",
    "    return  total_time\n",
    "\n",
    "#　増える物体の体積\n",
    "volume = 0.1 # 立方メートルで表示\n",
    "#　物体を収める空間の体積\n",
    "breadth = 1.35e+40 #太陽系の体積\n",
    "\n",
    "total_time =  baibainn(volume,breadth)\n",
    "print(\"体積{}立方メートルの物体にバイバインを振りかけて{}立方メートルの空間にいれると{}分で一杯になる\".format(volume,breadth,total_time))\n",
    "    "
   ]
  },
  {
   "cell_type": "code",
   "execution_count": null,
   "id": "3eb24346",
   "metadata": {},
   "outputs": [],
   "source": []
  }
 ],
 "metadata": {
  "kernelspec": {
   "display_name": "Python 3",
   "language": "python",
   "name": "python3"
  },
  "language_info": {
   "codemirror_mode": {
    "name": "ipython",
    "version": 3
   },
   "file_extension": ".py",
   "mimetype": "text/x-python",
   "name": "python",
   "nbconvert_exporter": "python",
   "pygments_lexer": "ipython3",
   "version": "3.8.8"
  }
 },
 "nbformat": 4,
 "nbformat_minor": 5
}

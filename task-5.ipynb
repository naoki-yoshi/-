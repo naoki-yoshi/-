{
 "cells": [
  {
   "cell_type": "markdown",
   "id": "85bd9df9",
   "metadata": {},
   "source": [
    "# 小麦とチェス盤問題"
   ]
  },
  {
   "cell_type": "markdown",
   "id": "c33f2532",
   "metadata": {},
   "source": [
    "サンプルコード"
   ]
  },
  {
   "cell_type": "code",
   "execution_count": 1,
   "id": "543481bd",
   "metadata": {},
   "outputs": [
    {
     "name": "stdout",
     "output_type": "stream",
     "text": [
      "4マスの板に小麦を並べる（リスト）：[1, 2, 4, 8]\n"
     ]
    }
   ],
   "source": [
    "n_squares = 4\n",
    "small_board_list = [1]\n",
    "for _ in range(n_squares - 1):\n",
    "    small_board_list.append(2*small_board_list[-1])\n",
    "print(\"4マスの板に小麦を並べる（リスト）：{}\".format(small_board_list))"
   ]
  },
  {
   "cell_type": "code",
   "execution_count": 2,
   "id": "4351b626",
   "metadata": {},
   "outputs": [
    {
     "name": "stdout",
     "output_type": "stream",
     "text": [
      "4マスの板に小麦を並べる（ndarray）：[1 2 4 8]\n"
     ]
    }
   ],
   "source": [
    "import numpy as np\n",
    "small_board_ndarray = np.array(small_board_list)\n",
    "print(\"4マスの板に小麦を並べる（ndarray）：{}\".format(small_board_ndarray))"
   ]
  },
  {
   "cell_type": "markdown",
   "id": "158d15d6",
   "metadata": {},
   "source": [
    "## 【問題1】2×2マスのチェス盤の小麦の数"
   ]
  },
  {
   "cell_type": "code",
   "execution_count": 3,
   "id": "40bab5e0",
   "metadata": {
    "scrolled": true
   },
   "outputs": [
    {
     "name": "stdout",
     "output_type": "stream",
     "text": [
      "[[1 2]\n",
      " [4 8]]\n"
     ]
    }
   ],
   "source": [
    "square_size = (2,2)\n",
    "a_ndarray = small_board_ndarray.reshape(square_size)\n",
    "print(a_ndarray)"
   ]
  },
  {
   "cell_type": "markdown",
   "id": "ff510e91",
   "metadata": {},
   "source": [
    "## 【問題2】n×mマスへの拡張"
   ]
  },
  {
   "cell_type": "code",
   "execution_count": 4,
   "id": "e7cdedb8",
   "metadata": {
    "scrolled": true
   },
   "outputs": [
    {
     "name": "stdout",
     "output_type": "stream",
     "text": [
      "[[1.00000000e+00 2.00000000e+00 4.00000000e+00 8.00000000e+00\n",
      "  1.60000000e+01 3.20000000e+01 6.40000000e+01 1.28000000e+02]\n",
      " [2.56000000e+02 5.12000000e+02 1.02400000e+03 2.04800000e+03\n",
      "  4.09600000e+03 8.19200000e+03 1.63840000e+04 3.27680000e+04]\n",
      " [6.55360000e+04 1.31072000e+05 2.62144000e+05 5.24288000e+05\n",
      "  1.04857600e+06 2.09715200e+06 4.19430400e+06 8.38860800e+06]\n",
      " [1.67772160e+07 3.35544320e+07 6.71088640e+07 1.34217728e+08\n",
      "  2.68435456e+08 5.36870912e+08 1.07374182e+09 2.14748365e+09]\n",
      " [4.29496730e+09 8.58993459e+09 1.71798692e+10 3.43597384e+10\n",
      "  6.87194767e+10 1.37438953e+11 2.74877907e+11 5.49755814e+11]\n",
      " [1.09951163e+12 2.19902326e+12 4.39804651e+12 8.79609302e+12\n",
      "  1.75921860e+13 3.51843721e+13 7.03687442e+13 1.40737488e+14]\n",
      " [2.81474977e+14 5.62949953e+14 1.12589991e+15 2.25179981e+15\n",
      "  4.50359963e+15 9.00719925e+15 1.80143985e+16 3.60287970e+16]\n",
      " [7.20575940e+16 1.44115188e+17 2.88230376e+17 5.76460752e+17\n",
      "  1.15292150e+18 2.30584301e+18 4.61168602e+18 9.22337204e+18]]\n"
     ]
    }
   ],
   "source": [
    "def chessboard_wheat(square_size=(8,8)):\n",
    "    \n",
    "     \"\"\"\n",
    "     Parameteres\n",
    "     -------------\n",
    "     square_size:int\n",
    "        マスの大きさ　(デフォルト:8,8)\n",
    "             \n",
    "     Returns\n",
    "     -------------\n",
    "       a_ndarray : ndarry,reshape(square_size)\n",
    "             チェス盤上の小麦の配列\n",
    "      \"\"\"\n",
    "     border_list = [1]\n",
    "     aria = square_size[0]*square_size[1]\n",
    "     for _ in range(aria - 1):\n",
    "        border_list.append(2*border_list[-1])\n",
    "        \n",
    "     a_ndarray = np.array(border_list).reshape(square_size)\n",
    "     return a_ndarray\n",
    "\n",
    "square_size = 8,8\n",
    "print(chessboard_wheat(square_size))\n",
    "    "
   ]
  },
  {
   "cell_type": "markdown",
   "id": "059755c7",
   "metadata": {},
   "source": [
    "## 【問題3】小麦の数の合計"
   ]
  },
  {
   "cell_type": "code",
   "execution_count": 5,
   "id": "1de2776a",
   "metadata": {},
   "outputs": [
    {
     "name": "stdout",
     "output_type": "stream",
     "text": [
      "(8, 8)マスの小麦の合計は1.8446744073709552e+19です\n"
     ]
    }
   ],
   "source": [
    "square_size = (8,8)\n",
    "b_ndarray = chessboard_wheat(square_size)\n",
    "\n",
    "total_wheat = b_ndarray.sum()\n",
    "mean_wheat = b_ndarray.mean(axis=0)\n",
    "\n",
    "print(\"{}マスの小麦の合計は{}です\".format(square_size,total_wheat))"
   ]
  },
  {
   "cell_type": "markdown",
   "id": "a43ffceb",
   "metadata": {},
   "source": [
    "## 【問題4】小麦の数のヒートマップ"
   ]
  },
  {
   "cell_type": "code",
   "execution_count": 6,
   "id": "bb7d6615",
   "metadata": {},
   "outputs": [],
   "source": [
    "from matplotlib import pyplot as plt\n",
    "%matplotlib inline"
   ]
  },
  {
   "cell_type": "code",
   "execution_count": 7,
   "id": "f2a8503a",
   "metadata": {},
   "outputs": [
    {
     "data": {
      "image/png": "[encoded data removed]",
      "text/plain": [
       "<Figure size 432x288 with 1 Axes>"
      ]
     },
     "metadata": {
      "needs_background": "light"
     },
     "output_type": "display_data"
    }
   ],
   "source": [
    "plt.xlabel(\"column\")\n",
    "plt.ylabel(\"row\")\n",
    "plt.title(\"heatmap\")\n",
    "plt.pcolor(b_ndarray.reshape(square_size))\n",
    "plt.show()"
   ]
  },
  {
   "cell_type": "markdown",
   "id": "31d9d0d4",
   "metadata": {},
   "source": [
    "## 【問題5】後半は前半の何倍か"
   ]
  },
  {
   "cell_type": "code",
   "execution_count": 8,
   "id": "df25ab9f",
   "metadata": {},
   "outputs": [
    {
     "name": "stdout",
     "output_type": "stream",
     "text": [
      "後半は前半の4294967296.0倍となっている\n"
     ]
    }
   ],
   "source": [
    "first_half = b_ndarray[:4,:].sum()\n",
    "latter_half = b_ndarray[4:,:].sum()\n",
    "\n",
    "ratio = latter_half/first_half \n",
    "\n",
    "print(\"後半は前半の{}倍となっている\".format(ratio))"
   ]
  },
  {
   "cell_type": "markdown",
   "id": "61206a58",
   "metadata": {},
   "source": [
    "## 【問題6】他の計算方法によるn×mマスへの拡張"
   ]
  },
  {
   "cell_type": "markdown",
   "id": "8fef8e2e",
   "metadata": {},
   "source": [
    "〈np.append()による計算〉"
   ]
  },
  {
   "cell_type": "code",
   "execution_count": 14,
   "id": "c3d840fd",
   "metadata": {
    "scrolled": false
   },
   "outputs": [
    {
     "name": "stdout",
     "output_type": "stream",
     "text": [
      "(8, 8)マスの小麦の合計は1.8446744073709552e+19です\n"
     ]
    }
   ],
   "source": [
    "def chessboard_wheat_append(square_size=(8,8)):\n",
    "    \"\"\"\n",
    "    \"\"\"\n",
    "    n_squares = square_size[0]*square_size[1]\n",
    "    c_ndarray = np.array([1]).astype(np.uint64)\n",
    "    for _ in range(n_squares - 1):\n",
    "         c_ndarray =  np.append( c_ndarray,2* c_ndarray[-1])\n",
    "         \n",
    "    c_ndarray = c_ndarray.reshape(square_size)\n",
    "    return c_ndarray\n",
    "\n",
    "square_size = (8,8)\n",
    "d_nbarray = chessboard_wheat_append(square_size)\n",
    "total_wheat = d_nbarray.sum()\n",
    "\n",
    "print(\"{}マスの小麦の合計は{}です\".format(square_size,total_wheat))"
   ]
  },
  {
   "cell_type": "markdown",
   "id": "4c3e61f8",
   "metadata": {},
   "source": [
    "<ブロードキャストによる計算>"
   ]
  },
  {
   "cell_type": "code",
   "execution_count": 15,
   "id": "46ece767",
   "metadata": {},
   "outputs": [
    {
     "name": "stdout",
     "output_type": "stream",
     "text": [
      "(8, 8)マスの小麦の合計は18446744073709551615です\n"
     ]
    }
   ],
   "source": [
    "def chessboard_wheat_broadcast(square_size=(8,8)):\n",
    "    \n",
    "     n_squares = square_size[0]*square_size[1]\n",
    "     b_squares = np.arange(n_squares ).astype(np.uint64)\n",
    "     d_ndarray = 2**b_squares\n",
    "     d_ndarray = d_ndarray.reshape(square_size)\n",
    "     return d_ndarray\n",
    "\n",
    "\n",
    "square_size = (8,8)\n",
    "d_ndarray= chessboard_wheat_broadcast(square_size)\n",
    "total_wheat = d_ndarray.sum()\n",
    "\n",
    "print(\"{}マスの小麦の合計は{}です\".format(square_size,total_wheat))\n",
    "\n",
    "    "
   ]
  },
  {
   "cell_type": "markdown",
   "id": "5b65dac9",
   "metadata": {},
   "source": [
    "##  【問題7】計算時間の比較"
   ]
  },
  {
   "cell_type": "code",
   "execution_count": 23,
   "id": "f81f4823",
   "metadata": {},
   "outputs": [
    {
     "name": "stdout",
     "output_type": "stream",
     "text": [
      "19.9 µs ± 951 ns per loop (mean ± std. dev. of 7 runs, 100000 loops each)\n"
     ]
    }
   ],
   "source": [
    "%%timeit # リストのappend計算\n",
    "ndarray = chessboard_wheat(square_size)"
   ]
  },
  {
   "cell_type": "code",
   "execution_count": 24,
   "id": "6b6cbdf4",
   "metadata": {},
   "outputs": [
    {
     "name": "stdout",
     "output_type": "stream",
     "text": [
      "458 µs ± 25.2 µs per loop (mean ± std. dev. of 7 runs, 1000 loops each)\n"
     ]
    }
   ],
   "source": [
    "%%timeit # npappend計算\n",
    "ndarray = chessboard_wheat_append(square_size=(8,8))"
   ]
  },
  {
   "cell_type": "code",
   "execution_count": 25,
   "id": "57f25bb5",
   "metadata": {},
   "outputs": [
    {
     "name": "stdout",
     "output_type": "stream",
     "text": [
      "3.69 µs ± 21.7 ns per loop (mean ± std. dev. of 7 runs, 100000 loops each)\n"
     ]
    }
   ],
   "source": [
    " %%timeit # ブロードキャスト計算\n",
    "ndarray = chessboard_wheat_broadcast(square_size=(8,8))"
   ]
  },
  {
   "cell_type": "code",
   "execution_count": null,
   "id": "35038db2",
   "metadata": {},
   "outputs": [],
   "source": []
  }
 ],
 "metadata": {
  "kernelspec": {
   "display_name": "Python 3",
   "language": "python",
   "name": "python3"
  },
  "language_info": {
   "codemirror_mode": {
    "name": "ipython",
    "version": 3
   },
   "file_extension": ".py",
   "mimetype": "text/x-python",
   "name": "python",
   "nbconvert_exporter": "python",
   "pygments_lexer": "ipython3",
   "version": "3.8.8"
  }
 },
 "nbformat": 4,
 "nbformat_minor": 5
}

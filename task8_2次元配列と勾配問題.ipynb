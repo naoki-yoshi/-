{
  "cells": [
    {
      "cell_type": "markdown",
      "metadata": {
        "id": "view-in-github",
        "colab_type": "text"
      },
      "source": [
        "<a href=\"https://colab.research.google.com/github/naoki-yoshi/Task/blob/master/task8_2%E6%AC%A1%E5%85%83%E9%85%8D%E5%88%97%E3%81%A8%E5%8B%BE%E9%85%8D%E5%95%8F%E9%A1%8C.ipynb\" target=\"_parent\"><img src=\"https://colab.research.google.com/assets/colab-badge.svg\" alt=\"Open In Colab\"/></a>"
      ]
    },
    {
      "cell_type": "markdown",
      "metadata": {
        "id": "cN4s8-klJiIE"
      },
      "source": [
        "## 二次元配列と勾配問題\n",
        "\n",
        "機械学習においては関数の最小値を見つけることが重要になってきます。そのために使われるのが勾配降下法です。\n",
        "\n",
        "この課題では勾配降下法を理解する準備として、NumPyを用いて関数の勾配を考えていきます。"
      ]
    },
    {
      "cell_type": "code",
      "execution_count": null,
      "metadata": {
        "id": "ToykIOptJiIF"
      },
      "outputs": [],
      "source": [
        "import matplotlib.pyplot as plt\n",
        "%matplotlib inline\n",
        "import numpy as np"
      ]
    },
    {
      "cell_type": "markdown",
      "metadata": {
        "id": "ZOinKdr4JiIJ"
      },
      "source": [
        "### 【問題1】1次関数\n",
        "\n",
        "$x$ が-50から50の範囲で次の式を考えます。\n",
        "\n",
        "$$\n",
        "y = \\frac{1}{2}x + 1\n",
        "$$\n",
        "\n",
        "-50から50まで0.1間隔のxを表すndarrayと、各要素に対するyを表すndarrayを作成してください。\n"
      ]
    },
    {
      "cell_type": "code",
      "execution_count": null,
      "metadata": {
        "colab": {
          "base_uri": "https://localhost:8080/",
          "height": 51
        },
        "id": "9ChXycNFJiIK",
        "outputId": "8d38009d-d4b9-4e21-8d32-1c0624fa3587"
      },
      "outputs": [
        {
          "name": "stdout",
          "output_type": "stream",
          "text": [
            "[-50.  -49.9 -49.8 ...  49.8  49.9  50. ]\n",
            "[-24.   -23.95 -23.9  ...  25.9   25.95  26.  ]\n"
          ]
        }
      ],
      "source": [
        "array_x = np.arange(-50, 50.1, 0.1) \n",
        "array_y = array_x/2 + 1\n",
        "print(array_x)\n",
        "print(array_y)"
      ]
    },
    {
      "cell_type": "markdown",
      "metadata": {
        "id": "AcngoMZblHjC"
      },
      "source": [
        "### 【問題2】配列の結合\n",
        "\n",
        "問題1で作成したndarrayを結合し、(1001, 2)の形の配列にしてください。0列目にx、1列目にyが来るようにします。"
      ]
    },
    {
      "cell_type": "code",
      "execution_count": null,
      "metadata": {
        "id": "6pl6IiomlHjC",
        "outputId": "7556bb92-2491-43dd-bb6d-608d726ba500"
      },
      "outputs": [
        {
          "data": {
            "text/plain": [
              "(1001,)"
            ]
          },
          "execution_count": 16,
          "metadata": {},
          "output_type": "execute_result"
        }
      ],
      "source": [
        "array_x.shape"
      ]
    },
    {
      "cell_type": "code",
      "execution_count": null,
      "metadata": {
        "colab": {
          "base_uri": "https://localhost:8080/",
          "height": 153
        },
        "id": "Utio9MgTJiIS",
        "outputId": "b6952e40-96a4-4cec-f4f0-07e8cd0d2394"
      },
      "outputs": [
        {
          "name": "stdout",
          "output_type": "stream",
          "text": [
            "[[-50.   -24.  ]\n",
            " [-49.9  -23.95]\n",
            " [-49.8  -23.9 ]\n",
            " ...\n",
            " [ 49.8   25.9 ]\n",
            " [ 49.9   25.95]\n",
            " [ 50.    26.  ]]\n",
            "(1001, 2)\n"
          ]
        }
      ],
      "source": [
        "array_xy = np.concatenate((array_x[:, np.newaxis], array_y[:, np.newaxis]), axis=1)\n",
        "print(array_xy)\n",
        "print(array_xy.shape) # (3, 2)"
      ]
    },
    {
      "cell_type": "markdown",
      "metadata": {
        "id": "p2JiuNj3JiIW"
      },
      "source": [
        "### 【問題3】勾配を求める\n",
        "\n"
      ]
    },
    {
      "cell_type": "code",
      "execution_count": null,
      "metadata": {
        "colab": {
          "base_uri": "https://localhost:8080/",
          "height": 986
        },
        "id": "pQvdBpn4JiIX",
        "outputId": "993b1c69-a0ce-490d-80b5-cf79bbba5697"
      },
      "outputs": [
        {
          "name": "stdout",
          "output_type": "stream",
          "text": [
            "[0.5 0.5 0.5 0.5 0.5 0.5 0.5 0.5 0.5 0.5 0.5 0.5 0.5 0.5 0.5 0.5 0.5 0.5\n",
            " 0.5 0.5 0.5 0.5 0.5 0.5 0.5 0.5 0.5 0.5 0.5 0.5 0.5 0.5 0.5 0.5 0.5 0.5\n",
            " 0.5 0.5 0.5 0.5 0.5 0.5 0.5 0.5 0.5 0.5 0.5 0.5 0.5 0.5 0.5 0.5 0.5 0.5\n",
            " 0.5 0.5 0.5 0.5 0.5 0.5 0.5 0.5 0.5 0.5 0.5 0.5 0.5 0.5 0.5 0.5 0.5 0.5\n",
            " 0.5 0.5 0.5 0.5 0.5 0.5 0.5 0.5 0.5 0.5 0.5 0.5 0.5 0.5 0.5 0.5 0.5 0.5\n",
            " 0.5 0.5 0.5 0.5 0.5 0.5 0.5 0.5 0.5 0.5 0.5 0.5 0.5 0.5 0.5 0.5 0.5 0.5\n",
            " 0.5 0.5 0.5 0.5 0.5 0.5 0.5 0.5 0.5 0.5 0.5 0.5 0.5 0.5 0.5 0.5 0.5 0.5\n",
            " 0.5 0.5 0.5 0.5 0.5 0.5 0.5 0.5 0.5 0.5 0.5 0.5 0.5 0.5 0.5 0.5 0.5 0.5\n",
            " 0.5 0.5 0.5 0.5 0.5 0.5 0.5 0.5 0.5 0.5 0.5 0.5 0.5 0.5 0.5 0.5 0.5 0.5\n",
            " 0.5 0.5 0.5 0.5 0.5 0.5 0.5 0.5 0.5 0.5 0.5 0.5 0.5 0.5 0.5 0.5 0.5 0.5\n",
            " 0.5 0.5 0.5 0.5 0.5 0.5 0.5 0.5 0.5 0.5 0.5 0.5 0.5 0.5 0.5 0.5 0.5 0.5\n",
            " 0.5 0.5 0.5 0.5 0.5 0.5 0.5 0.5 0.5 0.5 0.5 0.5 0.5 0.5 0.5 0.5 0.5 0.5\n",
            " 0.5 0.5 0.5 0.5 0.5 0.5 0.5 0.5 0.5 0.5 0.5 0.5 0.5 0.5 0.5 0.5 0.5 0.5\n",
            " 0.5 0.5 0.5 0.5 0.5 0.5 0.5 0.5 0.5 0.5 0.5 0.5 0.5 0.5 0.5 0.5 0.5 0.5\n",
            " 0.5 0.5 0.5 0.5 0.5 0.5 0.5 0.5 0.5 0.5 0.5 0.5 0.5 0.5 0.5 0.5 0.5 0.5\n",
            " 0.5 0.5 0.5 0.5 0.5 0.5 0.5 0.5 0.5 0.5 0.5 0.5 0.5 0.5 0.5 0.5 0.5 0.5\n",
            " 0.5 0.5 0.5 0.5 0.5 0.5 0.5 0.5 0.5 0.5 0.5 0.5 0.5 0.5 0.5 0.5 0.5 0.5\n",
            " 0.5 0.5 0.5 0.5 0.5 0.5 0.5 0.5 0.5 0.5 0.5 0.5 0.5 0.5 0.5 0.5 0.5 0.5\n",
            " 0.5 0.5 0.5 0.5 0.5 0.5 0.5 0.5 0.5 0.5 0.5 0.5 0.5 0.5 0.5 0.5 0.5 0.5\n",
            " 0.5 0.5 0.5 0.5 0.5 0.5 0.5 0.5 0.5 0.5 0.5 0.5 0.5 0.5 0.5 0.5 0.5 0.5\n",
            " 0.5 0.5 0.5 0.5 0.5 0.5 0.5 0.5 0.5 0.5 0.5 0.5 0.5 0.5 0.5 0.5 0.5 0.5\n",
            " 0.5 0.5 0.5 0.5 0.5 0.5 0.5 0.5 0.5 0.5 0.5 0.5 0.5 0.5 0.5 0.5 0.5 0.5\n",
            " 0.5 0.5 0.5 0.5 0.5 0.5 0.5 0.5 0.5 0.5 0.5 0.5 0.5 0.5 0.5 0.5 0.5 0.5\n",
            " 0.5 0.5 0.5 0.5 0.5 0.5 0.5 0.5 0.5 0.5 0.5 0.5 0.5 0.5 0.5 0.5 0.5 0.5\n",
            " 0.5 0.5 0.5 0.5 0.5 0.5 0.5 0.5 0.5 0.5 0.5 0.5 0.5 0.5 0.5 0.5 0.5 0.5\n",
            " 0.5 0.5 0.5 0.5 0.5 0.5 0.5 0.5 0.5 0.5 0.5 0.5 0.5 0.5 0.5 0.5 0.5 0.5\n",
            " 0.5 0.5 0.5 0.5 0.5 0.5 0.5 0.5 0.5 0.5 0.5 0.5 0.5 0.5 0.5 0.5 0.5 0.5\n",
            " 0.5 0.5 0.5 0.5 0.5 0.5 0.5 0.5 0.5 0.5 0.5 0.5 0.5 0.5 0.5 0.5 0.5 0.5\n",
            " 0.5 0.5 0.5 0.5 0.5 0.5 0.5 0.5 0.5 0.5 0.5 0.5 0.5 0.5 0.5 0.5 0.5 0.5\n",
            " 0.5 0.5 0.5 0.5 0.5 0.5 0.5 0.5 0.5 0.5 0.5 0.5 0.5 0.5 0.5 0.5 0.5 0.5\n",
            " 0.5 0.5 0.5 0.5 0.5 0.5 0.5 0.5 0.5 0.5 0.5 0.5 0.5 0.5 0.5 0.5 0.5 0.5\n",
            " 0.5 0.5 0.5 0.5 0.5 0.5 0.5 0.5 0.5 0.5 0.5 0.5 0.5 0.5 0.5 0.5 0.5 0.5\n",
            " 0.5 0.5 0.5 0.5 0.5 0.5 0.5 0.5 0.5 0.5 0.5 0.5 0.5 0.5 0.5 0.5 0.5 0.5\n",
            " 0.5 0.5 0.5 0.5 0.5 0.5 0.5 0.5 0.5 0.5 0.5 0.5 0.5 0.5 0.5 0.5 0.5 0.5\n",
            " 0.5 0.5 0.5 0.5 0.5 0.5 0.5 0.5 0.5 0.5 0.5 0.5 0.5 0.5 0.5 0.5 0.5 0.5\n",
            " 0.5 0.5 0.5 0.5 0.5 0.5 0.5 0.5 0.5 0.5 0.5 0.5 0.5 0.5 0.5 0.5 0.5 0.5\n",
            " 0.5 0.5 0.5 0.5 0.5 0.5 0.5 0.5 0.5 0.5 0.5 0.5 0.5 0.5 0.5 0.5 0.5 0.5\n",
            " 0.5 0.5 0.5 0.5 0.5 0.5 0.5 0.5 0.5 0.5 0.5 0.5 0.5 0.5 0.5 0.5 0.5 0.5\n",
            " 0.5 0.5 0.5 0.5 0.5 0.5 0.5 0.5 0.5 0.5 0.5 0.5 0.5 0.5 0.5 0.5 0.5 0.5\n",
            " 0.5 0.5 0.5 0.5 0.5 0.5 0.5 0.5 0.5 0.5 0.5 0.5 0.5 0.5 0.5 0.5 0.5 0.5\n",
            " 0.5 0.5 0.5 0.5 0.5 0.5 0.5 0.5 0.5 0.5 0.5 0.5 0.5 0.5 0.5 0.5 0.5 0.5\n",
            " 0.5 0.5 0.5 0.5 0.5 0.5 0.5 0.5 0.5 0.5 0.5 0.5 0.5 0.5 0.5 0.5 0.5 0.5\n",
            " 0.5 0.5 0.5 0.5 0.5 0.5 0.5 0.5 0.5 0.5 0.5 0.5 0.5 0.5 0.5 0.5 0.5 0.5\n",
            " 0.5 0.5 0.5 0.5 0.5 0.5 0.5 0.5 0.5 0.5 0.5 0.5 0.5 0.5 0.5 0.5 0.5 0.5\n",
            " 0.5 0.5 0.5 0.5 0.5 0.5 0.5 0.5 0.5 0.5 0.5 0.5 0.5 0.5 0.5 0.5 0.5 0.5\n",
            " 0.5 0.5 0.5 0.5 0.5 0.5 0.5 0.5 0.5 0.5 0.5 0.5 0.5 0.5 0.5 0.5 0.5 0.5\n",
            " 0.5 0.5 0.5 0.5 0.5 0.5 0.5 0.5 0.5 0.5 0.5 0.5 0.5 0.5 0.5 0.5 0.5 0.5\n",
            " 0.5 0.5 0.5 0.5 0.5 0.5 0.5 0.5 0.5 0.5 0.5 0.5 0.5 0.5 0.5 0.5 0.5 0.5\n",
            " 0.5 0.5 0.5 0.5 0.5 0.5 0.5 0.5 0.5 0.5 0.5 0.5 0.5 0.5 0.5 0.5 0.5 0.5\n",
            " 0.5 0.5 0.5 0.5 0.5 0.5 0.5 0.5 0.5 0.5 0.5 0.5 0.5 0.5 0.5 0.5 0.5 0.5\n",
            " 0.5 0.5 0.5 0.5 0.5 0.5 0.5 0.5 0.5 0.5 0.5 0.5 0.5 0.5 0.5 0.5 0.5 0.5\n",
            " 0.5 0.5 0.5 0.5 0.5 0.5 0.5 0.5 0.5 0.5 0.5 0.5 0.5 0.5 0.5 0.5 0.5 0.5\n",
            " 0.5 0.5 0.5 0.5 0.5 0.5 0.5 0.5 0.5 0.5 0.5 0.5 0.5 0.5 0.5 0.5 0.5 0.5\n",
            " 0.5 0.5 0.5 0.5 0.5 0.5 0.5 0.5 0.5 0.5 0.5 0.5 0.5 0.5 0.5 0.5 0.5 0.5\n",
            " 0.5 0.5 0.5 0.5 0.5 0.5 0.5 0.5 0.5 0.5 0.5 0.5 0.5 0.5 0.5 0.5 0.5 0.5\n",
            " 0.5 0.5 0.5 0.5 0.5 0.5 0.5 0.5 0.5 0.5]\n",
            "(1000,)\n"
          ]
        }
      ],
      "source": [
        "# (1番目以降のy - 末尾未満のy)/(1番目以降のx - 末尾未満のx)\n",
        "gradient = (array_xy[1:, 1] - array_xy[:-1, 1])/(array_xy[1:, 0] - array_xy[:-1, 0])\n",
        "print(gradient)\n",
        "print(gradient.shape)"
      ]
    },
    {
      "cell_type": "markdown",
      "metadata": {
        "id": "wcDQCD1uJiIa"
      },
      "source": [
        "### 【問題4】グラフを描く\n",
        "\n"
      ]
    },
    {
      "cell_type": "code",
      "execution_count": null,
      "metadata": {
        "colab": {
          "base_uri": "https://localhost:8080/",
          "height": 573
        },
        "id": "VFBJYo6gJiIb",
        "outputId": "8fb028be-977a-48c6-93a3-a746778ffdcd"
      },
      "outputs": [
        {
          "data": {
            "image/png": "[encoded data removed]",
            "text/plain": [
              "<Figure size 432x288 with 1 Axes>"
            ]
          },
          "metadata": {
            "needs_background": "light"
          },
          "output_type": "display_data"
        },
        {
          "data": {
            "image/png": "[encoded data removed]",
            "text/plain": [
              "<Figure size 432x288 with 1 Axes>"
            ]
          },
          "metadata": {
            "needs_background": "light"
          },
          "output_type": "display_data"
        }
      ],
      "source": [
        "plt.title(\"y=x/2 + 1\")\n",
        "plt.xlabel(\"x\")\n",
        "plt.ylabel(\"y\")\n",
        "plt.plot(array_xy[:, 0], array_xy[:, 1])\n",
        "plt.show()\n",
        "\n",
        "plt.title(\"gradient of y=x/2 + 1\")\n",
        "plt.xlabel(\"x\")\n",
        "plt.ylabel(\"gradient\")\n",
        "plt.plot(array_xy[:-1, 0], gradient)\n",
        "plt.show()"
      ]
    },
    {
      "cell_type": "markdown",
      "metadata": {
        "id": "yyWYCbL5JiIe"
      },
      "source": [
        "### 【問題5】Pythonの関数化\n",
        "\n",
        "\n"
      ]
    },
    {
      "cell_type": "code",
      "execution_count": null,
      "metadata": {
        "id": "qKltAAhWJiIf"
      },
      "outputs": [],
      "source": [
        "def compute_gradient(function, x_range=(-50, 50.1, 0.1)):\n",
        "    \"\"\"\n",
        "    勾配を計算する。\n",
        "\n",
        "    Parameters\n",
        "    ----------------\n",
        "    function : function\n",
        "    求めたい関数、xのndarrayを入れるとyのndarrayを返すもの。\n",
        "    x_range : tuple\n",
        "    np.arange()の引数と同じ方法で範囲を指定する。\n",
        "\n",
        "    Returns\n",
        "    ----------------\n",
        "    array_xy : ndarray, shape(n, 2)\n",
        "    xとyを結合したもの。nはx_rangeに依存する。\n",
        "    gradient : ndarray, shape(n,)\n",
        "    関数の勾配\n",
        "    \"\"\"\n",
        "    array_x = np.arange(*x_range) # 展開して引数として渡す\n",
        "    array_y = function(array_x)\n",
        "    array_xy = np.concatenate((array_x[:, np.newaxis], array_y[:, np.newaxis]), axis=1)\n",
        "    gradient = (array_xy[1:, 1] - array_xy[:-1, 1])/(array_xy[1:, 0] - array_xy[:-1, 0])\n",
        "    return array_xy, gradient"
      ]
    },
    {
      "cell_type": "code",
      "execution_count": null,
      "metadata": {
        "colab": {
          "base_uri": "https://localhost:8080/",
          "height": 573
        },
        "id": "j3A2X7sWJiIh",
        "outputId": "500548c9-3f7a-44b5-c954-10c89972701c"
      },
      "outputs": [
        {
          "data": {
            "image/png": "[encoded data removed]",
            "text/plain": [
              "<Figure size 432x288 with 1 Axes>"
            ]
          },
          "metadata": {
            "needs_background": "light"
          },
          "output_type": "display_data"
        },
        {
          "data": {
            "image/png": "[encoded data removed]",
            "text/plain": [
              "<Figure size 432x288 with 1 Axes>"
            ]
          },
          "metadata": {
            "needs_background": "light"
          },
          "output_type": "display_data"
        }
      ],
      "source": [
        "def function_a(array_x):\n",
        "    \"\"\"\n",
        "    y = x**2の関数。xのndarrayを入れるとyのndarrayを返す。\n",
        "\n",
        "    Parameters\n",
        "    ----------------\n",
        "    array_x : ndarray, shape(n,)\n",
        "\n",
        "    Returns\n",
        "    ----------------\n",
        "    ndarray, shape(n,)  \n",
        "    \"\"\"\n",
        "    return array_x**2\n",
        "  \n",
        "array_xy2, gradient2 = compute_gradient(function_a)\n",
        "\n",
        "plt.title(\"y=x**2\")\n",
        "plt.xlabel(\"x\")\n",
        "plt.ylabel(\"y\")\n",
        "plt.plot(array_xy2[:, 0], array_xy2[:, 1])\n",
        "plt.show()\n",
        "\n",
        "plt.title(\"gradient of y=x**2\")\n",
        "plt.xlabel(\"x\")\n",
        "plt.ylabel(\"gradient\")\n",
        "plt.plot(array_xy2[:-1, 0], gradient2)\n",
        "plt.show()"
      ]
    },
    {
      "cell_type": "code",
      "execution_count": null,
      "metadata": {
        "colab": {
          "base_uri": "https://localhost:8080/",
          "height": 573
        },
        "id": "lbfD8BB4JiIk",
        "outputId": "95446b0b-786e-4d2e-f802-959698e92e86"
      },
      "outputs": [
        {
          "data": {
            "image/png": "[encoded data removed]",
            "text/plain": [
              "<Figure size 432x288 with 1 Axes>"
            ]
          },
          "metadata": {
            "needs_background": "light"
          },
          "output_type": "display_data"
        },
        {
          "data": {
            "image/png": "[encoded data removed]",
            "text/plain": [
              "<Figure size 432x288 with 1 Axes>"
            ]
          },
          "metadata": {
            "needs_background": "light"
          },
          "output_type": "display_data"
        }
      ],
      "source": [
        "def function_b(array_x):\n",
        "    \"\"\"\n",
        "    y = 2**xの関数。xのndarrayを入れるとyのndarrayを返す。\n",
        "\n",
        "    Parameters\n",
        "    ----------------\n",
        "    array_x : ndarray, shape(n,)\n",
        "\n",
        "    Returns\n",
        "    ----------------\n",
        "    ndarray, shape(n,)  \n",
        "    \"\"\"\n",
        "    return 2*array_x**2 + 2**array_x\n",
        "  \n",
        "array_xy3, gradient3 = compute_gradient(function_b)\n",
        "\n",
        "plt.title(\"y=2*x**2 + 2**x\")\n",
        "plt.xlabel(\"x\")\n",
        "plt.ylabel(\"y\")\n",
        "plt.plot(array_xy3[:, 0], array_xy3[:, 1])\n",
        "plt.show()\n",
        "\n",
        "plt.title(\"gradient of y=2*x**2 + 2**x\")\n",
        "plt.xlabel(\"x\")\n",
        "plt.ylabel(\"gradient\")\n",
        "plt.plot(array_xy3[:-1, 0], gradient3)\n",
        "plt.show()"
      ]
    },
    {
      "cell_type": "code",
      "execution_count": null,
      "metadata": {
        "colab": {
          "base_uri": "https://localhost:8080/",
          "height": 573
        },
        "id": "6TxTU_mkJiIp",
        "outputId": "e187f615-6093-4847-fc2a-2fe9b0adc491"
      },
      "outputs": [
        {
          "data": {
            "image/png": "[encoded data removed]",
            "text/plain": [
              "<Figure size 432x288 with 1 Axes>"
            ]
          },
          "metadata": {
            "needs_background": "light"
          },
          "output_type": "display_data"
        },
        {
          "data": {
            "image/png": "[encoded data removed]",
            "text/plain": [
              "<Figure size 432x288 with 1 Axes>"
            ]
          },
          "metadata": {
            "needs_background": "light"
          },
          "output_type": "display_data"
        }
      ],
      "source": [
        "def function_c(array_x):\n",
        "    \"\"\"\n",
        "    y = sin(x**0.5)の関数。xのndarrayを入れるとyのndarrayを返す。\n",
        "\n",
        "    Parameters\n",
        "    ----------------\n",
        "    array_x : ndarray, shape(n,)\n",
        "\n",
        "    Returns\n",
        "    ----------------\n",
        "    ndarray, shape(n,)  \n",
        "    \"\"\"\n",
        "    return np.sin(array_x**0.5)\n",
        "\n",
        "array_xy4, gradient4 = compute_gradient(function_c, x_range=(0, 50.1, 0.1))# 開始をマイナスにすると警告が出るので０開始にしている\n",
        "\n",
        "plt.title(\"y=sin(x**0.5)\")\n",
        "plt.xlabel(\"x\")\n",
        "plt.ylabel(\"y\")\n",
        "plt.plot(array_xy4[:, 0], array_xy4[:, 1])\n",
        "plt.show()\n",
        "\n",
        "plt.title(\"gradient of y=sin(x**0.5)\")\n",
        "plt.xlabel(\"x\")\n",
        "plt.ylabel(\"gradient\")\n",
        "plt.plot(array_xy4[:-1, 0], gradient4)\n",
        "plt.show()"
      ]
    },
    {
      "cell_type": "markdown",
      "metadata": {
        "id": "89mkwgk9JiIt"
      },
      "source": [
        "### 【問題6】最小値を求める\n",
        "\n"
      ]
    },
    {
      "cell_type": "code",
      "execution_count": null,
      "metadata": {
        "colab": {
          "base_uri": "https://localhost:8080/",
          "height": 68
        },
        "id": "phvrsABSJiIu",
        "outputId": "1c3e832c-c1b7-4d7a-fb5d-85b342713640"
      },
      "outputs": [
        {
          "name": "stdout",
          "output_type": "stream",
          "text": [
            "5.048709793414476e-25 500\n",
            "0.9505505632959851 498\n",
            "-0.9999997540298113 222\n"
          ]
        }
      ],
      "source": [
        "print(array_xy2.min(axis=0)[1], array_xy2.argmin(axis=0)[1])\n",
        "print(array_xy3.min(axis=0)[1], array_xy3.argmin(axis=0)[1])\n",
        "print(array_xy4.min(axis=0)[1], array_xy4.argmin(axis=0)[1])"
      ]
    },
    {
      "cell_type": "markdown",
      "metadata": {
        "id": "o5FSm0WHlHjE"
      },
      "source": [
        "### 元のグラフが下に凸なグラフになっていることがわかる"
      ]
    },
    {
      "cell_type": "code",
      "execution_count": null,
      "metadata": {
        "colab": {
          "base_uri": "https://localhost:8080/",
          "height": 51
        },
        "id": "hJjjVz50JiIx",
        "outputId": "ce655d08-caed-48bc-9eac-1da70d707007"
      },
      "outputs": [
        {
          "data": {
            "text/plain": [
              "array([-1.9, -1.7, -1.5, -1.3, -1.1, -0.9, -0.7, -0.5, -0.3, -0.1,  0.1,\n",
              "        0.3,  0.5,  0.7,  0.9,  1.1,  1.3,  1.5,  1.7,  1.9])"
            ]
          },
          "execution_count": 25,
          "metadata": {},
          "output_type": "execute_result"
        }
      ],
      "source": [
        "# 前後の勾配の±10を取得している。\n",
        "gradient2[490:510]"
      ]
    },
    {
      "cell_type": "code",
      "execution_count": null,
      "metadata": {
        "colab": {
          "base_uri": "https://localhost:8080/",
          "height": 85
        },
        "id": "2Ihv6uSLJiI2",
        "outputId": "7bd7ef0a-d045-463d-e95b-544d04a45c4b"
      },
      "outputs": [
        {
          "data": {
            "text/plain": [
              "array([-4.28758786, -3.86516496, -3.44113269, -3.01537554, -2.58776971,\n",
              "       -2.15818251, -1.72647174, -1.29248498, -0.85605887, -0.41701833,\n",
              "        0.02482428,  0.46967008,  0.91773463,  1.36924892,  1.82446058,\n",
              "        2.28363497,  2.74705652,  3.21503004,  3.68788226,  4.16596334])"
            ]
          },
          "execution_count": 26,
          "metadata": {},
          "output_type": "execute_result"
        }
      ],
      "source": [
        "gradient3[488:508]"
      ]
    },
    {
      "cell_type": "code",
      "execution_count": null,
      "metadata": {
        "colab": {
          "base_uri": "https://localhost:8080/",
          "height": 85
        },
        "id": "lnYXSB2UJiI7",
        "outputId": "dbdb6ddb-fffd-4e0e-9233-6150cc97bc4a"
      },
      "outputs": [
        {
          "data": {
            "text/plain": [
              "array([-0.01111112, -0.00991828, -0.00873263, -0.00755423, -0.00638312,\n",
              "       -0.00521937, -0.00406302, -0.00291412, -0.00177271, -0.00063884,\n",
              "        0.00048745,  0.00160612,  0.00271712,  0.00382043,  0.004916  ,\n",
              "        0.0060038 ,  0.00708379,  0.00815594,  0.00922022,  0.0102766 ])"
            ]
          },
          "execution_count": 27,
          "metadata": {},
          "output_type": "execute_result"
        }
      ],
      "source": [
        "gradient4[212:232]"
      ]
    }
  ],
  "metadata": {
    "colab": {
      "collapsed_sections": [],
      "name": "task8_2次元配列と勾配問題.ipynb",
      "provenance": [],
      "include_colab_link": true
    },
    "kernelspec": {
      "display_name": "Python 3",
      "language": "python",
      "name": "python3"
    },
    "language_info": {
      "codemirror_mode": {
        "name": "ipython",
        "version": 3
      },
      "file_extension": ".py",
      "mimetype": "text/x-python",
      "name": "python",
      "nbconvert_exporter": "python",
      "pygments_lexer": "ipython3",
      "version": "3.6.8"
    },
    "varInspector": {
      "cols": {
        "lenName": 16,
        "lenType": 16,
        "lenVar": 40
      },
      "kernels_config": {
        "python": {
          "delete_cmd_postfix": "",
          "delete_cmd_prefix": "del ",
          "library": "var_list.py",
          "varRefreshCmd": "print(var_dic_list())"
        },
        "r": {
          "delete_cmd_postfix": ") ",
          "delete_cmd_prefix": "rm(",
          "library": "var_list.r",
          "varRefreshCmd": "cat(var_dic_list()) "
        }
      },
      "types_to_exclude": [
        "module",
        "function",
        "builtin_function_or_method",
        "instance",
        "_Feature"
      ],
      "window_display": false
    }
  },
  "nbformat": 4,
  "nbformat_minor": 0
}
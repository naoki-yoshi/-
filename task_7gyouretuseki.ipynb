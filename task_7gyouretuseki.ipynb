{
  "cells": [
    {
      "cell_type": "markdown",
      "metadata": {
        "id": "view-in-github",
        "colab_type": "text"
      },
      "source": [
        "<a href=\"https://colab.research.google.com/github/naoki-yoshi/Task/blob/master/task_7gyouretuseki.ipynb\" target=\"_parent\"><img src=\"https://colab.research.google.com/assets/colab-badge.svg\" alt=\"Open In Colab\"/></a>"
      ]
    },
    {
      "cell_type": "markdown",
      "id": "44ef5e12",
      "metadata": {
        "id": "44ef5e12"
      },
      "source": [
        "# 【問題1】行列積を手計算する"
      ]
    },
    {
      "cell_type": "code",
      "execution_count": null,
      "id": "d2bfb48b",
      "metadata": {
        "id": "d2bfb48b"
      },
      "outputs": [],
      "source": [
        "import numpy as np"
      ]
    },
    {
      "cell_type": "code",
      "execution_count": null,
      "id": "43110208",
      "metadata": {
        "id": "43110208"
      },
      "outputs": [],
      "source": [
        "a_ndarray = np.array([[-1,2,3],[4,-5,6],[7,8,-9]])\n",
        "b_ndarray = np.array([[0,2,1],[0,2,-8],[2,9,-1]])"
      ]
    },
    {
      "cell_type": "code",
      "execution_count": null,
      "id": "0efb0a42",
      "metadata": {
        "scrolled": false,
        "id": "0efb0a42",
        "outputId": "0f2f90de-03ce-42a6-e0de-49a4dd12c154"
      },
      "outputs": [
        {
          "data": {
            "text/plain": [
              "array([[-1,  2,  3],\n",
              "       [ 4, -5,  6],\n",
              "       [ 7,  8, -9]])"
            ]
          },
          "execution_count": 3,
          "metadata": {},
          "output_type": "execute_result"
        }
      ],
      "source": [
        "a_ndarray"
      ]
    },
    {
      "cell_type": "code",
      "execution_count": null,
      "id": "168bc15a",
      "metadata": {
        "scrolled": false,
        "id": "168bc15a",
        "outputId": "7ebe3089-4876-4de2-e00f-64901d598a2e"
      },
      "outputs": [
        {
          "data": {
            "text/plain": [
              "array([[ 0,  2,  1],\n",
              "       [ 0,  2, -8],\n",
              "       [ 2,  9, -1]])"
            ]
          },
          "execution_count": 4,
          "metadata": {},
          "output_type": "execute_result"
        }
      ],
      "source": [
        "b_ndarray "
      ]
    },
    {
      "cell_type": "code",
      "execution_count": null,
      "id": "2a7e79d2",
      "metadata": {
        "id": "2a7e79d2"
      },
      "outputs": [],
      "source": [
        "a = a_ndarray\n",
        "b = b_ndarray "
      ]
    },
    {
      "cell_type": "code",
      "execution_count": null,
      "id": "88f39ac7",
      "metadata": {
        "id": "88f39ac7",
        "outputId": "db39d594-9472-4095-a3b9-5c78a384dc21"
      },
      "outputs": [
        {
          "data": {
            "text/plain": [
              "-18"
            ]
          },
          "execution_count": 6,
          "metadata": {},
          "output_type": "execute_result"
        }
      ],
      "source": [
        "a[2,0]*b[0,0] + a[2,1]*b[1,0] + a[2,2]*b[2,0]"
      ]
    },
    {
      "cell_type": "code",
      "execution_count": null,
      "id": "7bf927ff",
      "metadata": {
        "id": "7bf927ff",
        "outputId": "cf46f150-80eb-4513-d8bf-6fa604e52ba6"
      },
      "outputs": [
        {
          "data": {
            "text/plain": [
              "2"
            ]
          },
          "execution_count": 7,
          "metadata": {},
          "output_type": "execute_result"
        }
      ],
      "source": [
        "b[0,1]"
      ]
    },
    {
      "cell_type": "code",
      "execution_count": null,
      "id": "9d62ffc1",
      "metadata": {
        "id": "9d62ffc1",
        "outputId": "a46f15c1-014f-48f0-cb34-f0d8c1752f01"
      },
      "outputs": [
        {
          "data": {
            "text/plain": [
              "array([[  6,  29, -20],\n",
              "       [ 12,  52,  38],\n",
              "       [-18, -51, -48]])"
            ]
          },
          "execution_count": 8,
          "metadata": {},
          "output_type": "execute_result"
        }
      ],
      "source": [
        "ab_ndarray = np.array([[a[0,0]*b[0,0] + a[0,1]*b[1,0] + a[0,2]*b[2,0],\n",
        "                       a[0,0]*b[0,1] + a[0,1]*b[1,1] + a[0,2]*b[2,1],\n",
        "                       a[0,0]*b[0,2] + a[0,1]*b[1,2] + a[0,2]*b[2,2]],\n",
        "                       [a[1,0]*b[0,0] + a[1,1]*b[1,0] + a[1,2]*b[2,0],\n",
        "                       a[1,0]*b[0,1] + a[1,1]*b[1,1] + a[1,2]*b[2,1],\n",
        "                       a[1,0]*b[0,2] + a[1,1]*b[1,2] + a[1,2]*b[2,2]],\n",
        "                       [a[2,0]*b[0,0] + a[2,1]*b[1,0] + a[2,2]*b[2,0],\n",
        "                       a[2,0]*b[0,1] + a[2,1]*b[1,1] + a[2,2]*b[2,1],\n",
        "                       a[2,0]*b[0,2] + a[2,1]*b[1,2] + a[2,2]*b[2,2]],\n",
        "                      ])\n",
        "ab_ndarray"
      ]
    },
    {
      "cell_type": "markdown",
      "id": "cbaf2f0c",
      "metadata": {
        "id": "cbaf2f0c"
      },
      "source": [
        "\n",
        "## 【問題2】NumPyの関数による計算"
      ]
    },
    {
      "cell_type": "markdown",
      "id": "540f4982",
      "metadata": {
        "id": "540f4982"
      },
      "source": [
        "np.matmulにて計算"
      ]
    },
    {
      "cell_type": "code",
      "execution_count": null,
      "id": "f635c990",
      "metadata": {
        "id": "f635c990",
        "outputId": "c811f0c7-91e5-4fcc-93e2-4fbc35f6f2d7"
      },
      "outputs": [
        {
          "data": {
            "text/plain": [
              "array([[  6,  29, -20],\n",
              "       [ 12,  52,  38],\n",
              "       [-18, -51, -48]])"
            ]
          },
          "execution_count": 9,
          "metadata": {},
          "output_type": "execute_result"
        }
      ],
      "source": [
        "np.matmul(a_ndarray,b_ndarray)"
      ]
    },
    {
      "cell_type": "code",
      "execution_count": null,
      "id": "2752d49d",
      "metadata": {
        "id": "2752d49d",
        "outputId": "c466ef70-2e25-459f-e611-c9b987d21efa"
      },
      "outputs": [
        {
          "data": {
            "text/plain": [
              "array([[ 15,  -2,   3],\n",
              "       [-48, -74,  84],\n",
              "       [ 27, -49,  69]])"
            ]
          },
          "execution_count": 10,
          "metadata": {},
          "output_type": "execute_result"
        }
      ],
      "source": [
        "np.matmul(b_ndarray,a_ndarray) # BA"
      ]
    },
    {
      "cell_type": "markdown",
      "id": "2d4cc0f0",
      "metadata": {
        "id": "2d4cc0f0"
      },
      "source": [
        "np.dotにて計算"
      ]
    },
    {
      "cell_type": "code",
      "execution_count": null,
      "id": "ac6ac221",
      "metadata": {
        "id": "ac6ac221",
        "outputId": "27738dcf-5ce4-4420-ded6-c10c10be312d"
      },
      "outputs": [
        {
          "data": {
            "text/plain": [
              "array([[  6,  29, -20],\n",
              "       [ 12,  52,  38],\n",
              "       [-18, -51, -48]])"
            ]
          },
          "execution_count": 11,
          "metadata": {},
          "output_type": "execute_result"
        }
      ],
      "source": [
        "np.dot(a_ndarray,b_ndarray)"
      ]
    },
    {
      "cell_type": "code",
      "execution_count": null,
      "id": "2f1f9c63",
      "metadata": {
        "id": "2f1f9c63",
        "outputId": "6001ae0b-3292-4646-8f99-62ab8e5d7d9f"
      },
      "outputs": [
        {
          "data": {
            "text/plain": [
              "array([[ 15,  -2,   3],\n",
              "       [-48, -74,  84],\n",
              "       [ 27, -49,  69]])"
            ]
          },
          "execution_count": 12,
          "metadata": {},
          "output_type": "execute_result"
        }
      ],
      "source": [
        "np.dot(b_ndarray,a_ndarray) #BA"
      ]
    },
    {
      "cell_type": "markdown",
      "id": "da790f32",
      "metadata": {
        "id": "da790f32"
      },
      "source": [
        "＠にて計算"
      ]
    },
    {
      "cell_type": "code",
      "execution_count": null,
      "id": "867f2eff",
      "metadata": {
        "id": "867f2eff",
        "outputId": "af842062-df9d-42b8-caea-1601b708bbc0"
      },
      "outputs": [
        {
          "data": {
            "text/plain": [
              "array([[  6,  29, -20],\n",
              "       [ 12,  52,  38],\n",
              "       [-18, -51, -48]])"
            ]
          },
          "execution_count": 13,
          "metadata": {},
          "output_type": "execute_result"
        }
      ],
      "source": [
        "a_ndarray@b_ndarray"
      ]
    },
    {
      "cell_type": "code",
      "execution_count": null,
      "id": "98576634",
      "metadata": {
        "id": "98576634",
        "outputId": "c4b1629b-28a3-4952-d902-d3377659d4d6"
      },
      "outputs": [
        {
          "data": {
            "text/plain": [
              "array([[ 15,  -2,   3],\n",
              "       [-48, -74,  84],\n",
              "       [ 27, -49,  69]])"
            ]
          },
          "execution_count": 14,
          "metadata": {},
          "output_type": "execute_result"
        }
      ],
      "source": [
        "b_ndarray@a_ndarray # BA"
      ]
    },
    {
      "cell_type": "markdown",
      "id": "d54fbfc5",
      "metadata": {
        "id": "d54fbfc5"
      },
      "source": [
        "## 【問題3】ある要素の計算を実装"
      ]
    },
    {
      "cell_type": "markdown",
      "id": "8cf7c6ff",
      "metadata": {
        "id": "8cf7c6ff"
      },
      "source": [
        "numpy配列にて計算\n",
        "\n",
        "行列Aの０行目と行列Bの１列目を掛け合わせて、その後合計する"
      ]
    },
    {
      "cell_type": "code",
      "execution_count": null,
      "id": "7177d863",
      "metadata": {
        "id": "7177d863",
        "outputId": "6e7d0f4f-ec24-4557-bfb7-4bbd6923c16e"
      },
      "outputs": [
        {
          "name": "stdout",
          "output_type": "stream",
          "text": [
            "行列Aの０行目と行列Bの０列目の合計は6\n"
          ]
        }
      ],
      "source": [
        "mat00 = (a_ndarray[0]*b_ndarray[:,0]).sum()\n",
        "print(\"行列Aの０行目と行列Bの０列目の合計は{}\".format(mat00))"
      ]
    },
    {
      "cell_type": "markdown",
      "id": "f532d87a",
      "metadata": {
        "id": "f532d87a"
      },
      "source": [
        "## 【問題4】行列積を行う関数の作成"
      ]
    },
    {
      "cell_type": "code",
      "execution_count": null,
      "id": "29830440",
      "metadata": {
        "id": "29830440",
        "outputId": "bf963c8c-10a7-4d1e-d266-4fa41299f095"
      },
      "outputs": [
        {
          "data": {
            "text/plain": [
              "array([[  6.,  29., -20.],\n",
              "       [ 12.,  52.,  38.],\n",
              "       [-18., -51., -48.]])"
            ]
          },
          "execution_count": 16,
          "metadata": {},
          "output_type": "execute_result"
        }
      ],
      "source": [
        "def mat (a,b):\n",
        "    \"\"\"\"    \n",
        "行列積を行う関数　\n",
        "Parameters\n",
        "----------------\n",
        "a, b : ndarray\n",
        "AとBに対応する行列\n",
        "Returns\n",
        " ----------------\n",
        "c  : ndarray\n",
        "計算した行列積\n",
        "  \"\"\" \n",
        "    c = np.empty((a.shape[0],b.shape[1]))\n",
        "    for x in range(a.shape[0]):\n",
        "        for y in range(b.shape[1]):\n",
        "            c[x,y] = (a[x,:] * b[:,y]).sum()\n",
        "    return c\n",
        "\n",
        "a_ndarray = np.array([[-1,2,3],[4,-5,6],[7,8,-9]])\n",
        "b_ndarray = np.array([[0,2,1],[0,2,-8],[2,9,-1]])\n",
        " \n",
        "mat(a_ndarray,b_ndarray)"
      ]
    },
    {
      "cell_type": "markdown",
      "id": "f659f03d",
      "metadata": {
        "id": "f659f03d"
      },
      "source": [
        "##  【問題5】計算が定義されない入力を判定する"
      ]
    },
    {
      "cell_type": "markdown",
      "id": "89e13ebc",
      "metadata": {
        "id": "89e13ebc"
      },
      "source": [
        "関数にif文を追加する"
      ]
    },
    {
      "cell_type": "code",
      "execution_count": null,
      "id": "d12c176e",
      "metadata": {
        "id": "d12c176e",
        "outputId": "62445306-37ce-4527-f54d-12603f55abca"
      },
      "outputs": [
        {
          "name": "stdout",
          "output_type": "stream",
          "text": [
            "Aの列数とBの行数が等しくないので計算できない\n"
          ]
        }
      ],
      "source": [
        "def mat (a,b):\n",
        "    \"\"\"\"    \n",
        "行列積を行う関数　\n",
        "Parameters\n",
        "----------------\n",
        "a, b : ndarray\n",
        "AとBに対応する行列\n",
        "Returns\n",
        " ----------------\n",
        "c  : ndarray\n",
        "計算した行列積\n",
        "  \"\"\" \n",
        "    if a.shape[1] == b.shape[0] :\n",
        "        \n",
        "        c = np.empty((a.shape[0],b.shape[1]))\n",
        "        for x in range(a.shape[0]):\n",
        "            for y in range(b.shape[1]):\n",
        "                c[x,y] = (a[x,:] * b[:,y]).sum()\n",
        "        return c\n",
        "    \n",
        "    else :\n",
        "        return print(\"Aの列数とBの行数が等しくないので計算できない\")\n",
        "        \n",
        "\n",
        "a_ndarray = np.array([[-1,2,],[4,-5,]])\n",
        "b_ndarray = np.array([[0,2,1],[0,2,-8],[2,9,-1]])\n",
        " \n",
        "mat(a_ndarray,b_ndarray)"
      ]
    },
    {
      "cell_type": "markdown",
      "id": "3243388d",
      "metadata": {
        "id": "3243388d"
      },
      "source": [
        "##  【問題6】転置"
      ]
    },
    {
      "cell_type": "code",
      "execution_count": null,
      "id": "8051a5ab",
      "metadata": {
        "id": "8051a5ab"
      },
      "outputs": [],
      "source": [
        "d_ndarray = np.array([[2,4,6],[3,5,6]])\n",
        "e_ndarray = np.array([[4,5,6],[1,3,5]])"
      ]
    },
    {
      "cell_type": "code",
      "execution_count": null,
      "id": "d2734677",
      "metadata": {
        "id": "d2734677",
        "outputId": "e6ee605c-fa87-4558-ee0e-89b0be0ec4eb"
      },
      "outputs": [
        {
          "data": {
            "text/plain": [
              "array([[2, 4, 6],\n",
              "       [3, 5, 6]])"
            ]
          },
          "execution_count": 19,
          "metadata": {},
          "output_type": "execute_result"
        }
      ],
      "source": [
        "d_ndarray"
      ]
    },
    {
      "cell_type": "code",
      "execution_count": null,
      "id": "65418caf",
      "metadata": {
        "id": "65418caf",
        "outputId": "ef451d36-cea0-4f12-ed57-7788f240c400"
      },
      "outputs": [
        {
          "data": {
            "text/plain": [
              "array([[4, 5, 6],\n",
              "       [1, 3, 5]])"
            ]
          },
          "execution_count": 20,
          "metadata": {},
          "output_type": "execute_result"
        }
      ],
      "source": [
        "e_ndarray"
      ]
    },
    {
      "cell_type": "code",
      "execution_count": null,
      "id": "6e0e72e4",
      "metadata": {
        "id": "6e0e72e4"
      },
      "outputs": [],
      "source": [
        "# d_ndarrayを転置する\n",
        "f_ndarray = np.transpose(d_ndarray)"
      ]
    },
    {
      "cell_type": "code",
      "execution_count": null,
      "id": "0ea276d1",
      "metadata": {
        "id": "0ea276d1",
        "outputId": "f9393256-81e2-4cd7-85d1-efc422c9edf7"
      },
      "outputs": [
        {
          "data": {
            "text/plain": [
              "array([[2, 3],\n",
              "       [4, 5],\n",
              "       [6, 6]])"
            ]
          },
          "execution_count": 22,
          "metadata": {},
          "output_type": "execute_result"
        }
      ],
      "source": [
        "f_ndarray"
      ]
    },
    {
      "cell_type": "code",
      "execution_count": null,
      "id": "9c381422",
      "metadata": {
        "id": "9c381422",
        "outputId": "53102314-6531-4ab3-ee22-3aa87c797955"
      },
      "outputs": [
        {
          "data": {
            "text/plain": [
              "array([[11, 19, 27],\n",
              "       [21, 35, 49],\n",
              "       [30, 48, 66]])"
            ]
          },
          "execution_count": 23,
          "metadata": {},
          "output_type": "execute_result"
        }
      ],
      "source": [
        "np.matmul(f_ndarray,e_ndarray)"
      ]
    },
    {
      "cell_type": "code",
      "execution_count": null,
      "id": "9ace9833",
      "metadata": {
        "id": "9ace9833"
      },
      "outputs": [],
      "source": [
        ""
      ]
    }
  ],
  "metadata": {
    "kernelspec": {
      "display_name": "Python 3",
      "language": "python",
      "name": "python3"
    },
    "language_info": {
      "codemirror_mode": {
        "name": "ipython",
        "version": 3
      },
      "file_extension": ".py",
      "mimetype": "text/x-python",
      "name": "python",
      "nbconvert_exporter": "python",
      "pygments_lexer": "ipython3",
      "version": "3.8.8"
    },
    "colab": {
      "name": "task-7gyouretuseki.ipynb",
      "provenance": [],
      "include_colab_link": true
    }
  },
  "nbformat": 4,
  "nbformat_minor": 5
}